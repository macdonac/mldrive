{
 "cells": [
  {
   "cell_type": "code",
   "execution_count": 43,
   "id": "2f60aac5",
   "metadata": {},
   "outputs": [],
   "source": [
    "from mldrive import mldrive as md\n",
    "email = 'amar.m.suljic@gmail.com'\n",
    "key = '56b2b5c430e54e06a594f63be8af24'"
   ]
  },
  {
   "cell_type": "code",
   "execution_count": 38,
   "id": "436ac9de",
   "metadata": {},
   "outputs": [
    {
     "data": {
      "text/plain": [
       "b'Invalid API Key'"
      ]
     },
     "execution_count": 38,
     "metadata": {},
     "output_type": "execute_result"
    }
   ],
   "source": [
    "mldrive.get_dataset('iris', key)"
   ]
  },
  {
   "cell_type": "code",
   "execution_count": 40,
   "id": "902fe66a",
   "metadata": {},
   "outputs": [
    {
     "data": {
      "text/plain": [
       "'Data Saved!'"
      ]
     },
     "execution_count": 40,
     "metadata": {},
     "output_type": "execute_result"
    }
   ],
   "source": [
    "mldrive.save_data([1], email, key)"
   ]
  },
  {
   "cell_type": "code",
   "execution_count": 44,
   "id": "de718cfa",
   "metadata": {},
   "outputs": [
    {
     "data": {
      "text/plain": [
       "b'<!DOCTYPE HTML PUBLIC \"-//W3C//DTD HTML 4.01 Transitional//EN\"\\n  \"http://www.w3.org/TR/html4/loose.dtd\">\\n<html>\\n  <head>\\n    <title>FileNotFoundError: [Errno 2] No such file or directory: &#x27;c:/uploads/450162199759033480808893015711592228/450162199759033480808893015711592228_dataset.pkl&#x27; // Werkzeug Debugger</title>\\n    <link rel=\"stylesheet\" href=\"?__debugger__=yes&amp;cmd=resource&amp;f=style.css\"\\n        type=\"text/css\">\\n    <!-- We need to make sure this has a favicon so that the debugger does\\n         not accidentally trigger a request to /favicon.ico which might\\n         change the application\\'s state. -->\\n    <link rel=\"shortcut icon\"\\n        href=\"?__debugger__=yes&amp;cmd=resource&amp;f=console.png\">\\n    <script src=\"?__debugger__=yes&amp;cmd=resource&amp;f=debugger.js\"></script>\\n    <script type=\"text/javascript\">\\n      var TRACEBACK = 1455738936328,\\n          CONSOLE_MODE = false,\\n          EVALEX = true,\\n          EVALEX_TRUSTED = false,\\n          SECRET = \"Zd7ClWLHBYiwAFxS1KJj\";\\n    </script>\\n  </head>\\n  <body style=\"background-color: #fff\">\\n    <div class=\"debugger\">\\n<h1>FileNotFoundError</h1>\\n<div class=\"detail\">\\n  <p class=\"errormsg\">FileNotFoundError: [Errno 2] No such file or directory: &#x27;c:/uploads/450162199759033480808893015711592228/450162199759033480808893015711592228_dataset.pkl&#x27;</p>\\n</div>\\n<h2 class=\"traceback\">Traceback <em>(most recent call last)</em></h2>\\n<div class=\"traceback\">\\n  <h3></h3>\\n  <ul><li><div class=\"frame\" id=\"frame-1455738936520\">\\n  <h4>File <cite class=\"filename\">\"C:\\\\venvs\\\\data_api\\\\lib\\\\site-packages\\\\flask\\\\app.py\"</cite>,\\n      line <em class=\"line\">2091</em>,\\n      in <code class=\"function\">__call__</code></h4>\\n  <div class=\"source library\"><pre class=\"line before\"><span class=\"ws\">    </span>def __call__(self, environ: dict, start_response: t.Callable) -&gt; t.Any:</pre>\\n<pre class=\"line before\"><span class=\"ws\">        </span>&quot;&quot;&quot;The WSGI server calls the Flask application object as the</pre>\\n<pre class=\"line before\"><span class=\"ws\">        </span>WSGI application. This calls :meth:`wsgi_app`, which can be</pre>\\n<pre class=\"line before\"><span class=\"ws\">        </span>wrapped to apply middleware.</pre>\\n<pre class=\"line before\"><span class=\"ws\">        </span>&quot;&quot;&quot;</pre>\\n<pre class=\"line current\"><span class=\"ws\">        </span>return self.wsgi_app(environ, start_response)</pre></div>\\n</div>\\n\\n<li><div class=\"frame\" id=\"frame-1455738934152\">\\n  <h4>File <cite class=\"filename\">\"C:\\\\venvs\\\\data_api\\\\lib\\\\site-packages\\\\flask\\\\app.py\"</cite>,\\n      line <em class=\"line\">2076</em>,\\n      in <code class=\"function\">wsgi_app</code></h4>\\n  <div class=\"source library\"><pre class=\"line before\"><span class=\"ws\">            </span>try:</pre>\\n<pre class=\"line before\"><span class=\"ws\">                </span>ctx.push()</pre>\\n<pre class=\"line before\"><span class=\"ws\">                </span>response = self.full_dispatch_request()</pre>\\n<pre class=\"line before\"><span class=\"ws\">            </span>except Exception as e:</pre>\\n<pre class=\"line before\"><span class=\"ws\">                </span>error = e</pre>\\n<pre class=\"line current\"><span class=\"ws\">                </span>response = self.handle_exception(e)</pre>\\n<pre class=\"line after\"><span class=\"ws\">            </span>except:  # noqa: B001</pre>\\n<pre class=\"line after\"><span class=\"ws\">                </span>error = sys.exc_info()[1]</pre>\\n<pre class=\"line after\"><span class=\"ws\">                </span>raise</pre>\\n<pre class=\"line after\"><span class=\"ws\">            </span>return response(environ, start_response)</pre>\\n<pre class=\"line after\"><span class=\"ws\">        </span>finally:</pre></div>\\n</div>\\n\\n<li><div class=\"frame\" id=\"frame-1455738936648\">\\n  <h4>File <cite class=\"filename\">\"C:\\\\venvs\\\\data_api\\\\lib\\\\site-packages\\\\flask\\\\app.py\"</cite>,\\n      line <em class=\"line\">2073</em>,\\n      in <code class=\"function\">wsgi_app</code></h4>\\n  <div class=\"source library\"><pre class=\"line before\"><span class=\"ws\">        </span>ctx = self.request_context(environ)</pre>\\n<pre class=\"line before\"><span class=\"ws\">        </span>error: t.Optional[BaseException] = None</pre>\\n<pre class=\"line before\"><span class=\"ws\">        </span>try:</pre>\\n<pre class=\"line before\"><span class=\"ws\">            </span>try:</pre>\\n<pre class=\"line before\"><span class=\"ws\">                </span>ctx.push()</pre>\\n<pre class=\"line current\"><span class=\"ws\">                </span>response = self.full_dispatch_request()</pre>\\n<pre class=\"line after\"><span class=\"ws\">            </span>except Exception as e:</pre>\\n<pre class=\"line after\"><span class=\"ws\">                </span>error = e</pre>\\n<pre class=\"line after\"><span class=\"ws\">                </span>response = self.handle_exception(e)</pre>\\n<pre class=\"line after\"><span class=\"ws\">            </span>except:  # noqa: B001</pre>\\n<pre class=\"line after\"><span class=\"ws\">                </span>error = sys.exc_info()[1]</pre></div>\\n</div>\\n\\n<li><div class=\"frame\" id=\"frame-1455738937160\">\\n  <h4>File <cite class=\"filename\">\"C:\\\\venvs\\\\data_api\\\\lib\\\\site-packages\\\\flask\\\\app.py\"</cite>,\\n      line <em class=\"line\">1518</em>,\\n      in <code class=\"function\">full_dispatch_request</code></h4>\\n  <div class=\"source library\"><pre class=\"line before\"><span class=\"ws\">            </span>request_started.send(self)</pre>\\n<pre class=\"line before\"><span class=\"ws\">            </span>rv = self.preprocess_request()</pre>\\n<pre class=\"line before\"><span class=\"ws\">            </span>if rv is None:</pre>\\n<pre class=\"line before\"><span class=\"ws\">                </span>rv = self.dispatch_request()</pre>\\n<pre class=\"line before\"><span class=\"ws\">        </span>except Exception as e:</pre>\\n<pre class=\"line current\"><span class=\"ws\">            </span>rv = self.handle_user_exception(e)</pre>\\n<pre class=\"line after\"><span class=\"ws\">        </span>return self.finalize_request(rv)</pre>\\n<pre class=\"line after\"><span class=\"ws\"></span> </pre>\\n<pre class=\"line after\"><span class=\"ws\">    </span>def finalize_request(</pre>\\n<pre class=\"line after\"><span class=\"ws\">        </span>self,</pre>\\n<pre class=\"line after\"><span class=\"ws\">        </span>rv: t.Union[ResponseReturnValue, HTTPException],</pre></div>\\n</div>\\n\\n<li><div class=\"frame\" id=\"frame-1455738936968\">\\n  <h4>File <cite class=\"filename\">\"C:\\\\venvs\\\\data_api\\\\lib\\\\site-packages\\\\flask\\\\app.py\"</cite>,\\n      line <em class=\"line\">1516</em>,\\n      in <code class=\"function\">full_dispatch_request</code></h4>\\n  <div class=\"source library\"><pre class=\"line before\"><span class=\"ws\">        </span>self.try_trigger_before_first_request_functions()</pre>\\n<pre class=\"line before\"><span class=\"ws\">        </span>try:</pre>\\n<pre class=\"line before\"><span class=\"ws\">            </span>request_started.send(self)</pre>\\n<pre class=\"line before\"><span class=\"ws\">            </span>rv = self.preprocess_request()</pre>\\n<pre class=\"line before\"><span class=\"ws\">            </span>if rv is None:</pre>\\n<pre class=\"line current\"><span class=\"ws\">                </span>rv = self.dispatch_request()</pre>\\n<pre class=\"line after\"><span class=\"ws\">        </span>except Exception as e:</pre>\\n<pre class=\"line after\"><span class=\"ws\">            </span>rv = self.handle_user_exception(e)</pre>\\n<pre class=\"line after\"><span class=\"ws\">        </span>return self.finalize_request(rv)</pre>\\n<pre class=\"line after\"><span class=\"ws\"></span> </pre>\\n<pre class=\"line after\"><span class=\"ws\">    </span>def finalize_request(</pre></div>\\n</div>\\n\\n<li><div class=\"frame\" id=\"frame-1455738935880\">\\n  <h4>File <cite class=\"filename\">\"C:\\\\venvs\\\\data_api\\\\lib\\\\site-packages\\\\flask\\\\app.py\"</cite>,\\n      line <em class=\"line\">1502</em>,\\n      in <code class=\"function\">dispatch_request</code></h4>\\n  <div class=\"source library\"><pre class=\"line before\"><span class=\"ws\">            </span>getattr(rule, &quot;provide_automatic_options&quot;, False)</pre>\\n<pre class=\"line before\"><span class=\"ws\">            </span>and req.method == &quot;OPTIONS&quot;</pre>\\n<pre class=\"line before\"><span class=\"ws\">        </span>):</pre>\\n<pre class=\"line before\"><span class=\"ws\">            </span>return self.make_default_options_response()</pre>\\n<pre class=\"line before\"><span class=\"ws\">        </span># otherwise dispatch to the handler for that endpoint</pre>\\n<pre class=\"line current\"><span class=\"ws\">        </span>return self.ensure_sync(self.view_functions[rule.endpoint])(**req.view_args)</pre>\\n<pre class=\"line after\"><span class=\"ws\"></span> </pre>\\n<pre class=\"line after\"><span class=\"ws\">    </span>def full_dispatch_request(self) -&gt; Response:</pre>\\n<pre class=\"line after\"><span class=\"ws\">        </span>&quot;&quot;&quot;Dispatches the request and on top of that performs request</pre>\\n<pre class=\"line after\"><span class=\"ws\">        </span>pre and postprocessing as well as HTTP exception catching and</pre>\\n<pre class=\"line after\"><span class=\"ws\">        </span>error handling.</pre></div>\\n</div>\\n\\n<li><div class=\"frame\" id=\"frame-1455738936776\">\\n  <h4>File <cite class=\"filename\">\"C:\\\\gitlocal\\\\DataSet_API\\\\api\\\\src\\\\api_app.py\"</cite>,\\n      line <em class=\"line\">311</em>,\\n      in <code class=\"function\">load_dataset_endpoint</code></h4>\\n  <div class=\"source \"><pre class=\"line before\"><span class=\"ws\">            </span>else:</pre>\\n<pre class=\"line before\"><span class=\"ws\">                </span>return isOk, 200</pre>\\n<pre class=\"line before\"><span class=\"ws\">        </span>else:</pre>\\n<pre class=\"line before\"><span class=\"ws\">            </span>return isOk, 200</pre>\\n<pre class=\"line before\"><span class=\"ws\">    </span>except Exception as exception:</pre>\\n<pre class=\"line current\"><span class=\"ws\">        </span>raise(exception)</pre>\\n<pre class=\"line after\"><span class=\"ws\"></span> </pre>\\n<pre class=\"line after\"><span class=\"ws\"></span>@app.route(&#x27;/api/save_model/&lt;email&gt;/&lt;key&gt;&#x27;, methods=[&quot;GET&quot;, &quot;POST&quot;])</pre>\\n<pre class=\"line after\"><span class=\"ws\"></span>def save_model_endpoint(email, key):</pre>\\n<pre class=\"line after\"><span class=\"ws\">    </span>try:</pre>\\n<pre class=\"line after\"><span class=\"ws\">        </span>isOk = db_conn.all_key_checks(key)</pre></div>\\n</div>\\n\\n<li><div class=\"frame\" id=\"frame-1455738935304\">\\n  <h4>File <cite class=\"filename\">\"C:\\\\gitlocal\\\\DataSet_API\\\\api\\\\src\\\\api_app.py\"</cite>,\\n      line <em class=\"line\">304</em>,\\n      in <code class=\"function\">load_dataset_endpoint</code></h4>\\n  <div class=\"source \"><pre class=\"line before\"><span class=\"ws\">    </span>try:</pre>\\n<pre class=\"line before\"><span class=\"ws\">        </span>isOk = db_conn.all_key_checks(key)</pre>\\n<pre class=\"line before\"><span class=\"ws\">        </span>if isOk == True:</pre>\\n<pre class=\"line before\"><span class=\"ws\">            </span>if db_conn.check_email_key(email, key) == True:</pre>\\n<pre class=\"line before\"><span class=\"ws\">                </span>db_conn.update_requests(key)</pre>\\n<pre class=\"line current\"><span class=\"ws\">                </span>return_data = {&#x27;result&#x27;: pd.read_pickle(path + str(int(key, 16)) + &#x27;/&#x27; + str(int(key, 16)) + &#x27;_dataset.pkl&#x27;, compression=&#x27;xz&#x27;).to_dict(orient=&#x27;records&#x27;)}</pre>\\n<pre class=\"line after\"><span class=\"ws\">                </span>return return_data, 200</pre>\\n<pre class=\"line after\"><span class=\"ws\">            </span>else:</pre>\\n<pre class=\"line after\"><span class=\"ws\">                </span>return isOk, 200</pre>\\n<pre class=\"line after\"><span class=\"ws\">        </span>else:</pre>\\n<pre class=\"line after\"><span class=\"ws\">            </span>return isOk, 200</pre></div>\\n</div>\\n\\n<li><div class=\"frame\" id=\"frame-1455738936584\">\\n  <h4>File <cite class=\"filename\">\"C:\\\\venvs\\\\data_api\\\\lib\\\\site-packages\\\\pandas\\\\io\\\\pickle.py\"</cite>,\\n      line <em class=\"line\">201</em>,\\n      in <code class=\"function\">read_pickle</code></h4>\\n  <div class=\"source library\"><pre class=\"line before\"><span class=\"ws\">    </span>with get_handle(</pre>\\n<pre class=\"line before\"><span class=\"ws\">        </span>filepath_or_buffer,</pre>\\n<pre class=\"line before\"><span class=\"ws\">        </span>&quot;rb&quot;,</pre>\\n<pre class=\"line before\"><span class=\"ws\">        </span>compression=compression,</pre>\\n<pre class=\"line before\"><span class=\"ws\">        </span>is_text=False,</pre>\\n<pre class=\"line current\"><span class=\"ws\">        </span>storage_options=storage_options,</pre>\\n<pre class=\"line after\"><span class=\"ws\">    </span>) as handles:</pre>\\n<pre class=\"line after\"><span class=\"ws\"></span> </pre>\\n<pre class=\"line after\"><span class=\"ws\">        </span># 1) try standard library Pickle</pre>\\n<pre class=\"line after\"><span class=\"ws\">        </span># 2) try pickle_compat (older pandas version) to handle subclass changes</pre>\\n<pre class=\"line after\"><span class=\"ws\">        </span># 3) try pickle_compat with latin-1 encoding upon a UnicodeDecodeError</pre></div>\\n</div>\\n\\n<li><div class=\"frame\" id=\"frame-1455738935560\">\\n  <h4>File <cite class=\"filename\">\"C:\\\\venvs\\\\data_api\\\\lib\\\\site-packages\\\\pandas\\\\io\\\\common.py\"</cite>,\\n      line <em class=\"line\">687</em>,\\n      in <code class=\"function\">get_handle</code></h4>\\n  <div class=\"source library\"><pre class=\"line before\"><span class=\"ws\">                        </span>f&quot;Only one file per ZIP: {zip_names}&quot;</pre>\\n<pre class=\"line before\"><span class=\"ws\">                    </span>)</pre>\\n<pre class=\"line before\"><span class=\"ws\"></span> </pre>\\n<pre class=\"line before\"><span class=\"ws\">        </span># XZ Compression</pre>\\n<pre class=\"line before\"><span class=\"ws\">        </span>elif compression == &quot;xz&quot;:</pre>\\n<pre class=\"line current\"><span class=\"ws\">            </span>handle = get_lzma_file(lzma)(handle, ioargs.mode)</pre>\\n<pre class=\"line after\"><span class=\"ws\"></span> </pre>\\n<pre class=\"line after\"><span class=\"ws\">        </span># Unrecognized Compression</pre>\\n<pre class=\"line after\"><span class=\"ws\">        </span>else:</pre>\\n<pre class=\"line after\"><span class=\"ws\">            </span>msg = f&quot;Unrecognized compression type: {compression}&quot;</pre>\\n<pre class=\"line after\"><span class=\"ws\">            </span>raise ValueError(msg)</pre></div>\\n</div>\\n\\n<li><div class=\"frame\" id=\"frame-1455738934536\">\\n  <h4>File <cite class=\"filename\">\"C:\\\\Users\\\\Amar\\\\AppData\\\\Local\\\\Programs\\\\Python\\\\Python37\\\\lib\\\\lzma.py\"</cite>,\\n      line <em class=\"line\">120</em>,\\n      in <code class=\"function\">__init__</code></h4>\\n  <div class=\"source \"><pre class=\"line before\"><span class=\"ws\">            </span>raise ValueError(&quot;Invalid mode: {!r}&quot;.format(mode))</pre>\\n<pre class=\"line before\"><span class=\"ws\"></span> </pre>\\n<pre class=\"line before\"><span class=\"ws\">        </span>if isinstance(filename, (str, bytes, os.PathLike)):</pre>\\n<pre class=\"line before\"><span class=\"ws\">            </span>if &quot;b&quot; not in mode:</pre>\\n<pre class=\"line before\"><span class=\"ws\">                </span>mode += &quot;b&quot;</pre>\\n<pre class=\"line current\"><span class=\"ws\">            </span>self._fp = builtins.open(filename, mode)</pre>\\n<pre class=\"line after\"><span class=\"ws\">            </span>self._closefp = True</pre>\\n<pre class=\"line after\"><span class=\"ws\">            </span>self._mode = mode_code</pre>\\n<pre class=\"line after\"><span class=\"ws\">        </span>elif hasattr(filename, &quot;read&quot;) or hasattr(filename, &quot;write&quot;):</pre>\\n<pre class=\"line after\"><span class=\"ws\">            </span>self._fp = filename</pre>\\n<pre class=\"line after\"><span class=\"ws\">            </span>self._mode = mode_code</pre></div>\\n</div>\\n</ul>\\n  <blockquote>FileNotFoundError: [Errno 2] No such file or directory: &#x27;c:/uploads/450162199759033480808893015711592228/450162199759033480808893015711592228_dataset.pkl&#x27;</blockquote>\\n</div>\\n\\n<div class=\"plain\">\\n    <p>\\n      This is the Copy/Paste friendly version of the traceback.\\n    </p>\\n    <textarea cols=\"50\" rows=\"10\" name=\"code\" readonly>Traceback (most recent call last):\\n  File &quot;C:\\\\venvs\\\\data_api\\\\lib\\\\site-packages\\\\flask\\\\app.py&quot;, line 2091, in __call__\\n    return self.wsgi_app(environ, start_response)\\n  File &quot;C:\\\\venvs\\\\data_api\\\\lib\\\\site-packages\\\\flask\\\\app.py&quot;, line 2076, in wsgi_app\\n    response = self.handle_exception(e)\\n  File &quot;C:\\\\venvs\\\\data_api\\\\lib\\\\site-packages\\\\flask\\\\app.py&quot;, line 2073, in wsgi_app\\n    response = self.full_dispatch_request()\\n  File &quot;C:\\\\venvs\\\\data_api\\\\lib\\\\site-packages\\\\flask\\\\app.py&quot;, line 1518, in full_dispatch_request\\n    rv = self.handle_user_exception(e)\\n  File &quot;C:\\\\venvs\\\\data_api\\\\lib\\\\site-packages\\\\flask\\\\app.py&quot;, line 1516, in full_dispatch_request\\n    rv = self.dispatch_request()\\n  File &quot;C:\\\\venvs\\\\data_api\\\\lib\\\\site-packages\\\\flask\\\\app.py&quot;, line 1502, in dispatch_request\\n    return self.ensure_sync(self.view_functions[rule.endpoint])(**req.view_args)\\n  File &quot;C:\\\\gitlocal\\\\DataSet_API\\\\api\\\\src\\\\api_app.py&quot;, line 311, in load_dataset_endpoint\\n    raise(exception)\\n  File &quot;C:\\\\gitlocal\\\\DataSet_API\\\\api\\\\src\\\\api_app.py&quot;, line 304, in load_dataset_endpoint\\n    return_data = {&#x27;result&#x27;: pd.read_pickle(path + str(int(key, 16)) + &#x27;/&#x27; + str(int(key, 16)) + &#x27;_dataset.pkl&#x27;, compression=&#x27;xz&#x27;).to_dict(orient=&#x27;records&#x27;)}\\n  File &quot;C:\\\\venvs\\\\data_api\\\\lib\\\\site-packages\\\\pandas\\\\io\\\\pickle.py&quot;, line 201, in read_pickle\\n    storage_options=storage_options,\\n  File &quot;C:\\\\venvs\\\\data_api\\\\lib\\\\site-packages\\\\pandas\\\\io\\\\common.py&quot;, line 687, in get_handle\\n    handle = get_lzma_file(lzma)(handle, ioargs.mode)\\n  File &quot;C:\\\\Users\\\\Amar\\\\AppData\\\\Local\\\\Programs\\\\Python\\\\Python37\\\\lib\\\\lzma.py&quot;, line 120, in __init__\\n    self._fp = builtins.open(filename, mode)\\nFileNotFoundError: [Errno 2] No such file or directory: &#x27;c:/uploads/450162199759033480808893015711592228/450162199759033480808893015711592228_dataset.pkl&#x27;</textarea>\\n</div>\\n<div class=\"explanation\">\\n  The debugger caught an exception in your WSGI application.  You can now\\n  look at the traceback which led to the error.  <span class=\"nojavascript\">\\n  If you enable JavaScript you can also use additional features such as code\\n  execution (if the evalex feature is enabled), automatic pasting of the\\n  exceptions and much more.</span>\\n</div>\\n      <div class=\"footer\">\\n        Brought to you by <strong class=\"arthur\">DON\\'T PANIC</strong>, your\\n        friendly Werkzeug powered traceback interpreter.\\n      </div>\\n    </div>\\n\\n    <div class=\"pin-prompt\">\\n      <div class=\"inner\">\\n        <h3>Console Locked</h3>\\n        <p>\\n          The console is locked and needs to be unlocked by entering the PIN.\\n          You can find the PIN printed out on the standard output of your\\n          shell that runs the server.\\n        <form>\\n          <p>PIN:\\n            <input type=text name=pin size=14>\\n            <input type=submit name=btn value=\"Confirm Pin\">\\n        </form>\\n      </div>\\n    </div>\\n  </body>\\n</html>\\n\\n<!--\\n\\nTraceback (most recent call last):\\n  File \"C:\\\\venvs\\\\data_api\\\\lib\\\\site-packages\\\\flask\\\\app.py\", line 2091, in __call__\\n    return self.wsgi_app(environ, start_response)\\n  File \"C:\\\\venvs\\\\data_api\\\\lib\\\\site-packages\\\\flask\\\\app.py\", line 2076, in wsgi_app\\n    response = self.handle_exception(e)\\n  File \"C:\\\\venvs\\\\data_api\\\\lib\\\\site-packages\\\\flask\\\\app.py\", line 2073, in wsgi_app\\n    response = self.full_dispatch_request()\\n  File \"C:\\\\venvs\\\\data_api\\\\lib\\\\site-packages\\\\flask\\\\app.py\", line 1518, in full_dispatch_request\\n    rv = self.handle_user_exception(e)\\n  File \"C:\\\\venvs\\\\data_api\\\\lib\\\\site-packages\\\\flask\\\\app.py\", line 1516, in full_dispatch_request\\n    rv = self.dispatch_request()\\n  File \"C:\\\\venvs\\\\data_api\\\\lib\\\\site-packages\\\\flask\\\\app.py\", line 1502, in dispatch_request\\n    return self.ensure_sync(self.view_functions[rule.endpoint])(**req.view_args)\\n  File \"C:\\\\gitlocal\\\\DataSet_API\\\\api\\\\src\\\\api_app.py\", line 311, in load_dataset_endpoint\\n    raise(exception)\\n  File \"C:\\\\gitlocal\\\\DataSet_API\\\\api\\\\src\\\\api_app.py\", line 304, in load_dataset_endpoint\\n    return_data = {\\'result\\': pd.read_pickle(path + str(int(key, 16)) + \\'/\\' + str(int(key, 16)) + \\'_dataset.pkl\\', compression=\\'xz\\').to_dict(orient=\\'records\\')}\\n  File \"C:\\\\venvs\\\\data_api\\\\lib\\\\site-packages\\\\pandas\\\\io\\\\pickle.py\", line 201, in read_pickle\\n    storage_options=storage_options,\\n  File \"C:\\\\venvs\\\\data_api\\\\lib\\\\site-packages\\\\pandas\\\\io\\\\common.py\", line 687, in get_handle\\n    handle = get_lzma_file(lzma)(handle, ioargs.mode)\\n  File \"C:\\\\Users\\\\Amar\\\\AppData\\\\Local\\\\Programs\\\\Python\\\\Python37\\\\lib\\\\lzma.py\", line 120, in __init__\\n    self._fp = builtins.open(filename, mode)\\nFileNotFoundError: [Errno 2] No such file or directory: \\'c:/uploads/450162199759033480808893015711592228/450162199759033480808893015711592228_dataset.pkl\\'\\n\\n-->\\n'"
      ]
     },
     "execution_count": 44,
     "metadata": {},
     "output_type": "execute_result"
    }
   ],
   "source": [
    "mldrive.get_my_data(email, key)"
   ]
  },
  {
   "cell_type": "code",
   "execution_count": 39,
   "id": "44cf250a",
   "metadata": {},
   "outputs": [],
   "source": [
    "import pandas as pd\n",
    "import requests\n",
    "import json\n",
    "#from pandas.io.json import json_normalize\n",
    "import pickle\n",
    "\n",
    "class mldrive:\n",
    "        def __init__(self):\n",
    "            pass\n",
    "\n",
    "        def get_dataset(endpoint, key, return_type=None):\n",
    "            \"\"\"Retrieve data from the user given endpoint. All endpoints can be retrieved by using this function with 'datasets'\n",
    "            as the endpoint parameter. \n",
    "            \n",
    "            :param endpoint: the name of the endpoint you want to hit (string)\n",
    "            :param key:  your API key (string)\n",
    "            :param return_type: type of return object (DataFrame, array, or dictionary). Default = DataFrame.  \n",
    "            :return:  data from given endpoint\n",
    "            \"\"\"\n",
    "            try:\n",
    "                r = requests.get('http://localhost:5000/api/' + endpoint + '/' + key)\n",
    "                if return_type == None:\n",
    "                    return pd.read_json(r.json()['result'])\n",
    "                elif return_type.lower() == 'array':\n",
    "                    return pd.read_json(r.json()['result']).to_numpy()\n",
    "                elif return_type.lower() == 'dict':\n",
    "                    return pd.read_json(r.json()['result']).to_dict()\n",
    "            except:\n",
    "                return r.content\n",
    "\n",
    "        def save_data(data, email, key):\n",
    "            \"\"\"Save the given dataframe to the server.  Note, your previously saved dataset will be overwritten.  \n",
    "            \n",
    "            :param df: dataframe that is being saved (dataframe)\n",
    "            :param email: email used for registration that corresponds with API key (string)\n",
    "            :param key:  your API key (string)\n",
    "            :return: post response\n",
    "            \"\"\"\n",
    "            \n",
    "            try:\n",
    "                if type(data) == list:\n",
    "                        r = requests.post('http://localhost:5000/api/save_dataset/'+email+'/'+key, json=data)\n",
    "                else:\n",
    "                        r = requests.post('http://localhost:5000/api/save_dataset/'+email+'/'+key, json=data.to_dict(orient='records') )\n",
    "                return 'Data Saved!'\n",
    "            except(AttributeError):\n",
    "                return 'Error: First Parameter is not a DataFrame or list'\n",
    "            except:\n",
    "                return r.content\n",
    "\n",
    "        def get_my_data(email, key):\n",
    "            \"\"\"Load your last saved dataset.\n",
    "            \n",
    "            :param email: email used for registration that corresponds with API key (string)\n",
    "            :param key:  your API key (string)\n",
    "            :return: dataframe\n",
    "            \"\"\"\n",
    "            try:\n",
    "                r = requests.get('http://localhost:5000/api/get_dataset/'+email+'/'+key)\n",
    "                return pd.DataFrame.from_dict(r.json()['result'])  \n",
    "            except:\n",
    "                return r.content\n",
    "\n",
    "            \n",
    "            \n",
    "        def save_model(model, email, key):\n",
    "            \"\"\"Save your scikit-learn model.\n",
    "\n",
    "            :param model:  your machine learning model (Model)            \n",
    "            :param email: email used for registration that corresponds with API key (string)\n",
    "            :param key:  your API key (string)\n",
    "            :return: post response\n",
    "            \"\"\"\n",
    "            try:\n",
    "                files = {'file': pickle.dumps(model)}\n",
    "                r = requests.post('http://localhost:5000/api/save_model/{}/{}'.format(email, key), files=files)\n",
    "            except:\n",
    "                return r.content \n",
    "            \n",
    "        def get_model(email, key):\n",
    "            \"\"\"Load your last saved model.\n",
    "            \n",
    "            :param email: email used for registration that corresponds with API key (string)\n",
    "            :param key:  your API key (string)\n",
    "            :return: Model\n",
    "            \"\"\"\n",
    "            try:\n",
    "                r = requests.get('http://localhost:5000//api/load_model/{}/{}'.format(email,key)).content\n",
    "                return pickle.loads(r)\n",
    "            except:\n",
    "                return r\n",
    "\n",
    "        def send_data(email,key,exchange_key, df):\n",
    "            \"\"\"Send your dataframe to another user via their exchange_key\n",
    "            \n",
    "            :param email: the recipients email  (string)\n",
    "            :param key:  your API key (string)\n",
    "            :param exchange_key:  the recipients exchange key (string)\n",
    "            :param df:  the dataframe you want to send (dataframe)\n",
    "            :return: post response\n",
    "            \"\"\"\n",
    "            try:\n",
    "                if type(df) == list:\n",
    "                         r = requests.post('http://localhost:5000/api/send_dataset/{}/{}/{}'.format(key,email,exchange_key), json=df)\n",
    "                         return r\n",
    "                else:\n",
    "                        r = requests.post('http://localhost:5000/api/send_dataset/{}/{}/{}'.format(key,email,exchange_key), json=df.to_dict(orient='records'))\n",
    "                        return 'Data Sent!'\n",
    "            except Exception as exception:\n",
    "                return r.content\n",
    "\n",
    "        def dataset_inbox(email, key):\n",
    "            \"\"\"Load dataframes that were sent to your inbox.\n",
    "            \n",
    "            :param email: email used for registration that corresponds with API key (string)\n",
    "            :param key:  your API key (string)\n",
    "            :return: dataframe (dataframe)\n",
    "            \"\"\"\n",
    "            try:\n",
    "                r = requests.get('http://34.231.99.140/api/dataset_inbox/{}/{}'.format(email,key))\n",
    "                return pd.DataFrame(r.json()['result'])\n",
    "            except Exception as exception:\n",
    "                return r.content\n",
    "            \n",
    "            \n",
    "        def send_model(email, key, exchange_key, model):\n",
    "            \"\"\"Send your model to another user via their exchange_key\n",
    "            \n",
    "            :param email: the recipients email (string)\n",
    "            :param key:  your API key (string)\n",
    "            :param exchange_key:  the recipients exchange key (string)\n",
    "            :param model:  the model you want to send (dataframe)\n",
    "            :return: post response\n",
    "            \"\"\"\n",
    "            try:\n",
    "                files = {'file': pickle.dumps(model)}\n",
    "                r = requests.post('http://34.231.99.140/api/send_model/{}/{}/{}'.format(key,email,exchange_key), files=files)\n",
    "                return 'Model Sent!'\n",
    "            except Exception as exception:\n",
    "                return r.content\n",
    "            \n",
    "        def model_inbox(email, key):\n",
    "            \"\"\"Load models that were sent to your inbox.\n",
    "            \n",
    "            :param email: email used for registration that corresponds with API key (string)\n",
    "            :param key:  your API key (string)\n",
    "            :return: model (model)\n",
    "            \"\"\"\n",
    "            try:\n",
    "                r = requests.get('http://34.231.99.140/api/model_inbox/{}/{}'.format(email,key)).content\n",
    "                return pickle.loads(r)\n",
    "            except Exception as exception:\n",
    "                return r.content\n",
    "            \n",
    "        def change_exchange_key(email, key, exchange_key, new_exchange_key):\n",
    "            \"\"\"Change your exchange key\n",
    "            \n",
    "            :param email: email used for registration that corresponds with API key (string)\n",
    "            :param key:  your API key (string)\n",
    "            :param exchange_key:  current exchange key (string)\n",
    "            :param new_exchange_key:  new exchange key (string)\n",
    "            :return: post response\n",
    "            \"\"\"\n",
    "            try:\n",
    "                r = requests.post('http://34.231.99.140/api/change_exchange_key/{}/{}/{}/{}'.format(email,key,exchange_key, new_exchange_key))\n",
    "                return 'Exchange Key Changed!'\n",
    "            except Exception as exception:\n",
    "                return r.content           \n"
   ]
  },
  {
   "cell_type": "code",
   "execution_count": null,
   "id": "827f3a31",
   "metadata": {},
   "outputs": [],
   "source": []
  }
 ],
 "metadata": {
  "kernelspec": {
   "display_name": "Python 3",
   "language": "python",
   "name": "python3"
  },
  "language_info": {
   "codemirror_mode": {
    "name": "ipython",
    "version": 3
   },
   "file_extension": ".py",
   "mimetype": "text/x-python",
   "name": "python",
   "nbconvert_exporter": "python",
   "pygments_lexer": "ipython3",
   "version": "3.8.8"
  }
 },
 "nbformat": 4,
 "nbformat_minor": 5
}
